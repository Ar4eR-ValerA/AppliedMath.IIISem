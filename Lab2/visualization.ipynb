{
 "cells": [
  {
   "cell_type": "code",
   "execution_count": 74,
   "metadata": {},
   "outputs": [],
   "source": [
    "import numpy as np\n",
    "import matplotlib.pyplot as plt\n",
    "from pylab import figure, cm\n",
    "import math\n",
    "%matplotlib inline"
   ]
  },
  {
   "cell_type": "code",
   "execution_count": 75,
   "metadata": {
    "pycharm": {
     "name": "#%%\n"
    }
   },
   "outputs": [
    {
     "ename": "ImportError",
     "evalue": "cannot import name 'Oracle2' from 'oracle.testOracles.oracle2' (C:\\Users\\jonas\\PycharmProjects\\ITMO_AppliedMath\\Lab2\\oracle\\testOracles\\oracle2.py)",
     "output_type": "error",
     "traceback": [
      "\u001B[1;31m---------------------------------------------------------------------------\u001B[0m",
      "\u001B[1;31mImportError\u001B[0m                               Traceback (most recent call last)",
      "Input \u001B[1;32mIn [75]\u001B[0m, in \u001B[0;36m<cell line: 4>\u001B[1;34m()\u001B[0m\n\u001B[0;32m      1\u001B[0m \u001B[38;5;28;01mimport\u001B[39;00m \u001B[38;5;21;01malgorithms\u001B[39;00m\u001B[38;5;21;01m.\u001B[39;00m\u001B[38;5;21;01mstepSizeAlgorithms\u001B[39;00m \u001B[38;5;28;01mas\u001B[39;00m \u001B[38;5;21;01malgos\u001B[39;00m\n\u001B[0;32m      2\u001B[0m \u001B[38;5;66;03m#from algorithms.gradientDescent import gradient_descent\u001B[39;00m\n\u001B[0;32m      3\u001B[0m \u001B[38;5;66;03m#from oracle.testOracles.oracle1 import Oracle1\u001B[39;00m\n\u001B[1;32m----> 4\u001B[0m \u001B[38;5;28;01mfrom\u001B[39;00m \u001B[38;5;21;01moracle\u001B[39;00m\u001B[38;5;21;01m.\u001B[39;00m\u001B[38;5;21;01mtestOracles\u001B[39;00m\u001B[38;5;21;01m.\u001B[39;00m\u001B[38;5;21;01moracle2\u001B[39;00m \u001B[38;5;28;01mimport\u001B[39;00m Oracle2\n",
      "\u001B[1;31mImportError\u001B[0m: cannot import name 'Oracle2' from 'oracle.testOracles.oracle2' (C:\\Users\\jonas\\PycharmProjects\\ITMO_AppliedMath\\Lab2\\oracle\\testOracles\\oracle2.py)"
     ]
    }
   ],
   "source": [
    "import algorithms.stepSizeAlgorithms as algos\n",
    "from algorithms.gradientDescent import gradient_descent\n",
    "from oracle.testOracles.oracle1 import Oracle1\n",
    "from oracle.testOracles.oracle2 import Oracle2\n",
    "from algorithms.fletcherReevesAlgorithm.fletcherReeves import fletcher_reeves"
   ]
  },
  {
   "cell_type": "code",
   "execution_count": null,
   "metadata": {
    "pycharm": {
     "name": "#%%\n"
    }
   },
   "outputs": [],
   "source": [
    "def visualize(oracle, x1_limit, x2_limit, steps, title):\n",
    "    x1_min, x1_max = x1_limit\n",
    "    x2_min, x2_max = x2_limit\n",
    "    steps = np.array(steps)\n",
    "\n",
    "    x1, x2 = np.meshgrid(np.arange(x1_min, x1_max, 0.05), np.arange(x2_min, x2_max, 0.05))\n",
    "    y = oracle.function([x1, x2])\n",
    "\n",
    "    plt.figure()\n",
    "    figure(figsize=(15, 10))\n",
    "\n",
    "    plt.xlim(x1_limit)\n",
    "    plt.ylim(x2_limit)\n",
    "\n",
    "    plt.contour(\n",
    "        x1, x2, y, extent=[x1_min, x1_max, x2_min, x2_max], cmap=cm.jet, origin='lower',\n",
    "                levels = 25)\n",
    "\n",
    "    plt.colorbar()\n",
    "    plt.plot()\n",
    "\n",
    "    plt.plot(steps[:,0], steps[:,1], marker='.', markersize=3, color=\"black\")\n",
    "    plt.title(title , fontsize=18)"
   ]
  },
  {
   "cell_type": "code",
   "execution_count": null,
   "metadata": {
    "pycharm": {
     "name": "#%%\n"
    }
   },
   "outputs": [],
   "source": [
    "o1 = Oracle1()\n",
    "o2 = Oracle2()\n",
    "t1 = algos.ConstStep()\n",
    "t2 = algos.SplittingStep(0.3)\n",
    "t3 = algos.GoldenRatioStep()\n",
    "t4 = algos.FibonacciStep()"
   ]
  },
  {
   "cell_type": "markdown",
   "metadata": {
    "pycharm": {
     "name": "#%% md\n"
    }
   },
   "source": [
    "### Небольшая инструкция:\n",
    "1) делаете новые оракулы со своими функциями\n",
    "2) выполняете метод оптимизации и достаете массив с шагами работы\n",
    "3) visualize() с шагами, с границами рисования по x и y и с заголовком\n",
    "\n",
    "*по поводу того какие параметры у градиентного спуска че означают - спрашивайте*"
   ]
  },
  {
   "cell_type": "code",
   "execution_count": null,
   "metadata": {
    "pycharm": {
     "name": "#%%\n"
    }
   },
   "outputs": [],
   "source": [
    "res = gradient_descent(o1, np.array([-3, 4]), t1, 0.0001, max_iter=1000, max_alpha=1, exit_clause=\"argument\")[1]\n",
    "visualize(o1, (-5, 5), (-5, 5), res, \"Градиентный спуск (постоянный шаг) для функции 1\")"
   ]
  },
  {
   "cell_type": "code",
   "execution_count": null,
   "metadata": {
    "pycharm": {
     "name": "#%%\n"
    }
   },
   "outputs": [],
   "source": [
    "res = fletcher_reeves(o1, np.array([-4, 3]), t3, 0.00001, 0.00015, 10, 10)[1]\n",
    "visualize(o1, (-5, 5), (-5, 5), res, \"Метод Флетчера-Ривса для функции 1\")"
   ]
  },
  {
   "cell_type": "code",
   "execution_count": null,
   "metadata": {
    "pycharm": {
     "name": "#%%\n"
    }
   },
   "outputs": [],
   "source": [
    "res = gradient_descent(o2, np.array([-2, 2]), t1, 0.0001, max_iter=1000, max_alpha=1, exit_clause=\"argument\")[1]\n",
    "visualize(o2, (-2, 2), (-2, 2), res, \"Градиентный спуск (постоянный шаг) для функции 2\")"
   ]
  },
  {
   "cell_type": "code",
   "execution_count": null,
   "metadata": {
    "pycharm": {
     "name": "#%%\n"
    }
   },
   "outputs": [],
   "source": [
    "res = fletcher_reeves(o2, np.array([-2, 2]), t3, 0.00001, 0.00015, 10, 10)[1]\n",
    "visualize(o2, (-2, 2), (-2, 2), res, \"Метод Флетчера-Ривса для функции 2\")"
   ]
  },
  {
   "cell_type": "code",
   "execution_count": null,
   "metadata": {},
   "outputs": [],
   "source": []
  }
 ],
 "metadata": {
  "kernelspec": {
   "display_name": "Python 3 (ipykernel)",
   "language": "python",
   "name": "python3"
  },
  "language_info": {
   "codemirror_mode": {
    "name": "ipython",
    "version": 3
   },
   "file_extension": ".py",
   "mimetype": "text/x-python",
   "name": "python",
   "nbconvert_exporter": "python",
   "pygments_lexer": "ipython3",
   "version": "3.10.4"
  }
 },
 "nbformat": 4,
 "nbformat_minor": 1
}