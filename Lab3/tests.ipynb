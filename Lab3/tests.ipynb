{
 "cells": [
  {
   "cell_type": "code",
   "execution_count": 1,
   "metadata": {
    "collapsed": true
   },
   "outputs": [],
   "source": [
    "import random\n",
    "import numpy as np\n",
    "from scipy import sparse\n",
    "import pandas as pd\n",
    "from tools.luDecomposition import lu_decomposition\n",
    "from tools.inverseMatrix import inverse_matrix\n",
    "from tools.linearEquationsSystemSolve import linear_equations_system_solve\n",
    "from tools.seidel import seidel\n",
    "from tools.conditionalNumber import get_conditional_number"
   ]
  },
  {
   "cell_type": "code",
   "execution_count": 2,
   "outputs": [],
   "source": [
    "def generate_gilbert_matrix(k: int):\n",
    "    matrix = np.zeros((k, k))\n",
    "    for i in range(k):\n",
    "        for j in range(k):\n",
    "            matrix[i][j] = 1 / (i + j + 1)\n",
    "    return matrix"
   ],
   "metadata": {
    "collapsed": false,
    "pycharm": {
     "name": "#%%\n"
    }
   }
  },
  {
   "cell_type": "code",
   "execution_count": 3,
   "outputs": [],
   "source": [
    "def generate_diagonal_matrix(k):\n",
    "    values = [0, -1, -2, -3, -4, -5, -6]\n",
    "    noise = 10 ** (-k)\n",
    "    matrix = np.zeros((k, k))\n",
    "    for i in range(k):\n",
    "        for j in range(k):\n",
    "            matrix[i][j] = random.choice(values)\n",
    "    for i in range(k):\n",
    "        matrix[i][i] = -(sum(matrix[i]) - matrix[i][i]) + noise\n",
    "    return matrix"
   ],
   "metadata": {
    "collapsed": false,
    "pycharm": {
     "name": "#%%\n"
    }
   }
  },
  {
   "cell_type": "code",
   "execution_count": 4,
   "outputs": [],
   "source": [
    "def solutions(a: sparse.csr_matrix, b: np.array, short_output: bool = False):\n",
    "    if not short_output:\n",
    "        print(\"a =\", a.todense())\n",
    "        print(\"b =\", b)\n",
    "        print(\"Conditional number = \", get_conditional_number(a))\n",
    "        print(\">--------------------------------------------------------------<\\n\")\n",
    "\n",
    "    answer_lu, iteration_count = linear_equations_system_solve(a, sparse.csr_matrix(b))\n",
    "    print(\"Solution of system A with B vector (lu method)\")\n",
    "    if not short_output:\n",
    "        print(answer_lu.transpose().toarray())\n",
    "\n",
    "    print(\"Iteration number\")\n",
    "    print(iteration_count)\n",
    "    print(\">--------------------------------------------------------------<\\n\")\n",
    "\n",
    "    answer_sei, iteration_count = seidel(a, b, 0.0001)\n",
    "    print(\"Solution of system A with B vector (Seidel method)\")\n",
    "    if not short_output:\n",
    "        print(answer_sei)\n",
    "    print(\"Iteration number\")\n",
    "    print(iteration_count)\n",
    "    print(\">--------------------------------------------------------------<\\n\")\n",
    "\n",
    "    print(\"Error for lu\")\n",
    "    print(np.linalg.norm(np.subtract(b, a.dot(answer_lu.transpose().toarray()[0]))))\n",
    "    print(\">--------------------------------------------------------------<\\n\")\n",
    "\n",
    "    print(\"Error for Seidel\")\n",
    "    print(np.linalg.norm(np.subtract(b, a.dot(answer_sei))))\n",
    "    print(\">==============================================================<\\n\\n\")"
   ],
   "metadata": {
    "collapsed": false,
    "pycharm": {
     "name": "#%%\n"
    }
   }
  },
  {
   "cell_type": "code",
   "execution_count": 5,
   "outputs": [
    {
     "name": "stdout",
     "output_type": "stream",
     "text": [
      "Random matrix 3x3\n",
      "a = [[1. 0. 0.]\n",
      " [0. 1. 0.]\n",
      " [0. 0. 1.]]\n",
      "b = [1. 2. 3.]\n",
      "Conditional number =  2.9999999999999996\n",
      ">--------------------------------------------------------------<\n",
      "\n",
      "Solution of system A with B vector (lu method)\n",
      "[[1. 2. 3.]]\n",
      "Iteration number\n",
      "35\n",
      ">--------------------------------------------------------------<\n",
      "\n",
      "Solution of system A with B vector (Seidel method)\n",
      "[1. 2. 3.]\n",
      "Iteration number\n",
      "18\n",
      ">--------------------------------------------------------------<\n",
      "\n",
      "Error for lu\n",
      "0.0\n",
      ">--------------------------------------------------------------<\n",
      "\n",
      "Error for Seidel\n",
      "0.0\n",
      ">==============================================================<\n",
      "\n",
      "\n"
     ]
    }
   ],
   "source": [
    "print(\"Eye matrix 3x3\")\n",
    "solutions(sparse.csr_matrix(np.eye(3, 3)),\n",
    "          np.array([1., 2., 3.]))"
   ],
   "metadata": {
    "collapsed": false,
    "pycharm": {
     "name": "#%%\n"
    }
   }
  },
  {
   "cell_type": "code",
   "execution_count": 6,
   "outputs": [
    {
     "name": "stdout",
     "output_type": "stream",
     "text": [
      "Random matrix 4x4\n",
      "a = [[20.  0.  5.  4.]\n",
      " [-7.  3. -1.  9.]\n",
      " [10.  2. -4.  2.]\n",
      " [ 2.  9. 11. 55.]]\n",
      "b = [1. 2. 3. 4.]\n",
      "Conditional number =  86.60617988340239\n",
      ">--------------------------------------------------------------<\n",
      "\n",
      "Solution of system A with B vector (lu method)\n",
      "[[ 7.69230769e-02  1.25000000e+00  7.93016446e-17 -1.34615385e-01]]\n",
      "Iteration number\n",
      "69\n",
      ">--------------------------------------------------------------<\n",
      "\n",
      "Solution of system A with B vector (Seidel method)\n",
      "[ 7.69279727e-02  1.24985097e+00 -3.87149027e-05 -1.34583433e-01]\n",
      "Iteration number\n",
      "352\n",
      ">--------------------------------------------------------------<\n",
      "\n",
      "Error for lu\n",
      "2.7012892057857038e-15\n",
      ">--------------------------------------------------------------<\n",
      "\n",
      "Error for Seidel\n",
      "0.00016125372834932436\n",
      ">==============================================================<\n",
      "\n",
      "\n"
     ]
    }
   ],
   "source": [
    "print(\"Random matrix 4x4\")\n",
    "solutions(sparse.csr_matrix([[20., 0., 5., 4.],\n",
    "                             [-7., 3., -1., 9],\n",
    "                             [10., 2., -4., 2],\n",
    "                             [2., 9., 11., 55.]])\n",
    "              ,np.array([1., 2., 3., 4.]))\n"
   ],
   "metadata": {
    "collapsed": false,
    "pycharm": {
     "name": "#%%\n"
    }
   }
  },
  {
   "cell_type": "code",
   "execution_count": 7,
   "outputs": [
    {
     "name": "stdout",
     "output_type": "stream",
     "text": [
      "Diagonal matrix 5x5 #1\n",
      "a = [[ 7.00001 -3.      -4.       0.       0.     ]\n",
      " [-4.       8.00001 -2.       0.      -2.     ]\n",
      " [-2.       0.       7.00001 -5.       0.     ]\n",
      " [-3.      -2.       0.       6.00001 -1.     ]\n",
      " [-5.      -3.      -6.      -2.      16.00001]]\n",
      "b = [-10.99999  -3.99998  -0.99997  12.00004  43.00005]\n",
      "Conditional number =  2731117.393505214\n",
      ">--------------------------------------------------------------<\n",
      "\n",
      "Solution of system A with B vector (lu method)\n",
      "[[1. 2. 3. 4. 5.]]\n",
      "Iteration number\n",
      "119\n",
      ">--------------------------------------------------------------<\n",
      "\n",
      "Solution of system A with B vector (Seidel method)\n",
      "[-2.35923582 -1.3592392  -0.35921472  0.64076918  1.64077418]\n",
      "Iteration number\n",
      "250\n",
      ">--------------------------------------------------------------<\n",
      "\n",
      "Error for lu\n",
      "1.4862067603866e-14\n",
      ">--------------------------------------------------------------<\n",
      "\n",
      "Error for Seidel\n",
      "0.0001863205577993837\n",
      ">==============================================================<\n",
      "\n",
      "\n",
      "Diagonal matrix 5x5 #2\n",
      "a = [[14.00001 -4.      -5.      -2.      -3.     ]\n",
      " [-1.      10.00001 -4.      -4.      -1.     ]\n",
      " [-1.      -4.       6.00001  0.      -1.     ]\n",
      " [-3.      -5.      -3.      13.00001 -2.     ]\n",
      " [-3.      -4.      -1.      -2.      10.00001]]\n",
      "b = [-31.99999 -13.99998   4.00003  20.00004  28.00005]\n",
      "Conditional number =  3175319.925630981\n",
      ">--------------------------------------------------------------<\n",
      "\n",
      "Solution of system A with B vector (lu method)\n",
      "[[1. 2. 3. 4. 5.]]\n",
      "Iteration number\n",
      "119\n",
      ">--------------------------------------------------------------<\n",
      "\n",
      "Solution of system A with B vector (Seidel method)\n",
      "[-2.72770958 -1.72768993 -0.72769317  0.27230195  1.27230596]\n",
      "Iteration number\n",
      "150\n",
      ">--------------------------------------------------------------<\n",
      "\n",
      "Error for lu\n",
      "5.102196573270515e-15\n",
      ">--------------------------------------------------------------<\n",
      "\n",
      "Error for Seidel\n",
      "0.0002793483467967808\n",
      ">==============================================================<\n",
      "\n",
      "\n",
      "Diagonal matrix 5x5 #3\n",
      "a = [[18.00001 -5.      -5.      -2.      -6.     ]\n",
      " [-2.       9.00001 -1.      -6.       0.     ]\n",
      " [ 0.      -4.      14.00001 -5.      -5.     ]\n",
      " [-2.      -3.      -5.      11.00001 -1.     ]\n",
      " [-6.      -4.      -2.      -1.      13.00001]]\n",
      "b = [-44.99999 -10.99998 -10.99997  16.00004  41.00005]\n",
      "Conditional number =  3663094.6596928937\n",
      ">--------------------------------------------------------------<\n",
      "\n",
      "Solution of system A with B vector (lu method)\n",
      "[[1. 2. 3. 4. 5.]]\n",
      "Iteration number\n",
      "119\n",
      ">--------------------------------------------------------------<\n",
      "\n",
      "Solution of system A with B vector (Seidel method)\n",
      "[-2.98057424 -1.98056964 -0.98058332  0.01942338  1.01942866]\n",
      "Iteration number\n",
      "175\n",
      ">--------------------------------------------------------------<\n",
      "\n",
      "Error for lu\n",
      "6.4047456679787536e-15\n",
      ">--------------------------------------------------------------<\n",
      "\n",
      "Error for Seidel\n",
      "0.0001954544005121084\n",
      ">==============================================================<\n",
      "\n",
      "\n",
      "Diagonal matrix 10x10\n",
      "Solution of system A with B vector (lu method)\n",
      "Iteration number\n",
      "714\n",
      ">--------------------------------------------------------------<\n",
      "\n",
      "Solution of system A with B vector (Seidel method)\n",
      "Iteration number\n",
      "700\n",
      ">--------------------------------------------------------------<\n",
      "\n",
      "Error for lu\n",
      "9.003518568899116e-14\n",
      ">--------------------------------------------------------------<\n",
      "\n",
      "Error for Seidel\n",
      "0.00022435648150093178\n",
      ">==============================================================<\n",
      "\n",
      "\n",
      "Diagonal matrix 50x50\n",
      "Solution of system A with B vector (lu method)\n",
      "Iteration number\n",
      "67574\n",
      ">--------------------------------------------------------------<\n",
      "\n",
      "Solution of system A with B vector (Seidel method)\n",
      "Iteration number\n",
      "20000\n",
      ">--------------------------------------------------------------<\n",
      "\n",
      "Error for lu\n",
      "3.181707548238757e-11\n",
      ">--------------------------------------------------------------<\n",
      "\n",
      "Error for Seidel\n",
      "0.0010851137879940161\n",
      ">==============================================================<\n",
      "\n",
      "\n",
      "Diagonal matrix 100x100\n",
      "Solution of system A with B vector (lu method)\n",
      "Iteration number\n",
      "520149\n",
      ">--------------------------------------------------------------<\n",
      "\n",
      "Solution of system A with B vector (Seidel method)\n",
      "Iteration number\n",
      "80000\n",
      ">--------------------------------------------------------------<\n",
      "\n",
      "Error for lu\n",
      "7.243339422598149e-11\n",
      ">--------------------------------------------------------------<\n",
      "\n",
      "Error for Seidel\n",
      "0.005575371377333734\n",
      ">==============================================================<\n",
      "\n",
      "\n"
     ]
    }
   ],
   "source": [
    "print(\"Diagonal matrix 5x5 #1\")\n",
    "n = 5\n",
    "a = sparse.csr_matrix(generate_diagonal_matrix(n))\n",
    "ans = np.array([i for i in range(1, n + 1)])\n",
    "b = a.dot(ans)\n",
    "solutions(a, b)\n",
    "\n",
    "print(\"Diagonal matrix 5x5 #2\")\n",
    "n = 5\n",
    "a = sparse.csr_matrix(generate_diagonal_matrix(n))\n",
    "ans = np.array([i for i in range(1, n + 1)])\n",
    "b = a.dot(ans)\n",
    "solutions(a, b)\n",
    "\n",
    "print(\"Diagonal matrix 5x5 #3\")\n",
    "n = 5\n",
    "a = sparse.csr_matrix(generate_diagonal_matrix(n))\n",
    "ans = np.array([i for i in range(1, n + 1)])\n",
    "b = a.dot(ans)\n",
    "solutions(a, b)\n",
    "\n",
    "print(\"Diagonal matrix 10x10\")\n",
    "n = 10\n",
    "a = sparse.csr_matrix(generate_diagonal_matrix(n))\n",
    "ans = np.array([i for i in range(1, n + 1)])\n",
    "b = a.dot(ans)\n",
    "solutions(a, b, True)\n",
    "\n",
    "print(\"Diagonal matrix 50x50\")\n",
    "n = 50\n",
    "a = sparse.csr_matrix(generate_diagonal_matrix(n))\n",
    "ans = np.array([i for i in range(1, n + 1)])\n",
    "b = a.dot(ans)\n",
    "solutions(a, b, True)\n",
    "\n",
    "print(\"Diagonal matrix 100x100\")\n",
    "n = 100\n",
    "a = sparse.csr_matrix(generate_diagonal_matrix(n))\n",
    "ans = np.array([i for i in range(1, n + 1)])\n",
    "b = a.dot(ans)\n",
    "solutions(a, b, True)"
   ],
   "metadata": {
    "collapsed": false,
    "pycharm": {
     "name": "#%%\n"
    }
   }
  },
  {
   "cell_type": "code",
   "execution_count": 8,
   "outputs": [
    {
     "name": "stdout",
     "output_type": "stream",
     "text": [
      "Gilbert matrix 5x5\n",
      "a = [[1.         0.5        0.33333333 0.25       0.2       ]\n",
      " [0.5        0.33333333 0.25       0.2        0.16666667]\n",
      " [0.33333333 0.25       0.2        0.16666667 0.14285714]\n",
      " [0.25       0.2        0.16666667 0.14285714 0.125     ]\n",
      " [0.2        0.16666667 0.14285714 0.125      0.11111111]]\n",
      "b = [5.         3.55       2.81428571 2.34642857 2.01746032]\n",
      "Conditional number =  480849.1169944144\n",
      ">--------------------------------------------------------------<\n",
      "\n",
      "Solution of system A with B vector (lu method)\n",
      "[[1. 2. 3. 4. 5.]]\n",
      "Iteration number\n",
      "119\n",
      ">--------------------------------------------------------------<\n",
      "\n",
      "Solution of system A with B vector (Seidel method)\n",
      "[0.99999625 2.02639721 2.82444736 4.32423602 4.82135593]\n",
      "Iteration number\n",
      "34725\n",
      ">--------------------------------------------------------------<\n",
      "\n",
      "Error for lu\n",
      "0.0\n",
      ">--------------------------------------------------------------<\n",
      "\n",
      "Error for Seidel\n",
      "2.205593874610787e-05\n",
      ">==============================================================<\n",
      "\n",
      "\n",
      "Gilbert matrix 10x10\n",
      "Solution of system A with B vector (lu method)\n",
      "Iteration number\n",
      "714\n",
      ">--------------------------------------------------------------<\n",
      "\n",
      "Solution of system A with B vector (Seidel method)\n",
      "Iteration number\n",
      "100000\n",
      ">--------------------------------------------------------------<\n",
      "\n",
      "Error for lu\n",
      "3.076740298213702e-15\n",
      ">--------------------------------------------------------------<\n",
      "\n",
      "Error for Seidel\n",
      "0.00032042282607448665\n",
      ">==============================================================<\n",
      "\n",
      "\n",
      "Gilbert matrix 50x50\n",
      "Solution of system A with B vector (lu method)\n",
      "Iteration number\n",
      "67574\n",
      ">--------------------------------------------------------------<\n",
      "\n",
      "Solution of system A with B vector (Seidel method)\n",
      "Iteration number\n",
      "100000\n",
      ">--------------------------------------------------------------<\n",
      "\n",
      "Error for lu\n",
      "2.412185323914849e-13\n",
      ">--------------------------------------------------------------<\n",
      "\n",
      "Error for Seidel\n",
      "0.6016989356720592\n",
      ">==============================================================<\n",
      "\n",
      "\n"
     ]
    }
   ],
   "source": [
    "print(\"Gilbert matrix 5x5\")\n",
    "n = 5\n",
    "a = sparse.csr_matrix(generate_gilbert_matrix(n))\n",
    "ans = np.array([i for i in range(1, n + 1)])\n",
    "b = a.dot(ans)\n",
    "solutions(a, b)\n",
    "\n",
    "print(\"Gilbert matrix 10x10\")\n",
    "n = 10\n",
    "a = sparse.csr_matrix(generate_gilbert_matrix(n))\n",
    "ans = np.array([i for i in range(1, n + 1)])\n",
    "b = a.dot(ans)\n",
    "solutions(a, b, True)\n",
    "\n",
    "print(\"Gilbert matrix 50x50\")\n",
    "n = 50\n",
    "a = sparse.csr_matrix(generate_gilbert_matrix(n))\n",
    "ans = np.array([i for i in range(1, n + 1)])\n",
    "b = a.dot(ans)\n",
    "solutions(a, b, True)"
   ],
   "metadata": {
    "collapsed": false,
    "pycharm": {
     "name": "#%%\n"
    }
   }
  },
  {
   "cell_type": "code",
   "execution_count": 28,
   "outputs": [],
   "source": [
    "def build_table(matrix, eps):\n",
    "\n",
    "    seidel_res = []\n",
    "    lu_res = []\n",
    "    obusl = []\n",
    "    sizes = [5, 10, 50, 100]\n",
    "    precisions = [eps for i in sizes]\n",
    "\n",
    "    for n in sizes:\n",
    "        a = sparse.csr_matrix(matrix(n))\n",
    "        ans = np.array([i for i in range(1, n + 1)])\n",
    "        b = a.dot(ans)\n",
    "        obusl.append(get_conditional_number(a.copy()))\n",
    "        answer_lu, it1 = linear_equations_system_solve(a.copy(), sparse.csr_matrix(b.copy()))\n",
    "        answer_sei, it2 = seidel(a, b, eps)\n",
    "        lu_res.append(it1)\n",
    "        seidel_res.append(it2)\n",
    "\n",
    "    data = {\"size n\": sizes,\n",
    "            \"epsilon\": precisions,\n",
    "            \"Cond(A)\": obusl,\n",
    "            \"LU iterations\": lu_res,\n",
    "            \"Seidel iterations\": seidel_res}\n",
    "\n",
    "    df = pd.DataFrame(data)\n",
    "\n",
    "    return df"
   ],
   "metadata": {
    "collapsed": false,
    "pycharm": {
     "name": "#%%\n"
    }
   }
  },
  {
   "cell_type": "code",
   "execution_count": 29,
   "outputs": [
    {
     "data": {
      "text/plain": "   size n  epsilon       Cond(A)  LU iterations  Seidel iterations\n0       5     0.01  3.129004e+06            119                100\n1      10     0.01  9.223961e+11            714                500\n2      50     0.01  1.499922e+17          67574              15000\n3     100     0.01  1.242334e+17         520149              60000",
      "text/html": "<div>\n<style scoped>\n    .dataframe tbody tr th:only-of-type {\n        vertical-align: middle;\n    }\n\n    .dataframe tbody tr th {\n        vertical-align: top;\n    }\n\n    .dataframe thead th {\n        text-align: right;\n    }\n</style>\n<table border=\"1\" class=\"dataframe\">\n  <thead>\n    <tr style=\"text-align: right;\">\n      <th></th>\n      <th>size n</th>\n      <th>epsilon</th>\n      <th>Cond(A)</th>\n      <th>LU iterations</th>\n      <th>Seidel iterations</th>\n    </tr>\n  </thead>\n  <tbody>\n    <tr>\n      <th>0</th>\n      <td>5</td>\n      <td>0.01</td>\n      <td>3.129004e+06</td>\n      <td>119</td>\n      <td>100</td>\n    </tr>\n    <tr>\n      <th>1</th>\n      <td>10</td>\n      <td>0.01</td>\n      <td>9.223961e+11</td>\n      <td>714</td>\n      <td>500</td>\n    </tr>\n    <tr>\n      <th>2</th>\n      <td>50</td>\n      <td>0.01</td>\n      <td>1.499922e+17</td>\n      <td>67574</td>\n      <td>15000</td>\n    </tr>\n    <tr>\n      <th>3</th>\n      <td>100</td>\n      <td>0.01</td>\n      <td>1.242334e+17</td>\n      <td>520149</td>\n      <td>60000</td>\n    </tr>\n  </tbody>\n</table>\n</div>"
     },
     "execution_count": 29,
     "metadata": {},
     "output_type": "execute_result"
    }
   ],
   "source": [
    "build_table(generate_diagonal_matrix, 0.01)"
   ],
   "metadata": {
    "collapsed": false,
    "pycharm": {
     "name": "#%%\n"
    }
   }
  },
  {
   "cell_type": "code",
   "execution_count": 30,
   "outputs": [
    {
     "data": {
      "text/plain": "   size n  epsilon       Cond(A)  LU iterations  Seidel iterations\n0       5     0.01  4.808491e+05            119               1375\n1      10     0.01  1.633163e+13            714              16300\n2      50     0.01  1.765061e+19          67574             100000\n3     100     0.01  2.007829e+19         520149             100000",
      "text/html": "<div>\n<style scoped>\n    .dataframe tbody tr th:only-of-type {\n        vertical-align: middle;\n    }\n\n    .dataframe tbody tr th {\n        vertical-align: top;\n    }\n\n    .dataframe thead th {\n        text-align: right;\n    }\n</style>\n<table border=\"1\" class=\"dataframe\">\n  <thead>\n    <tr style=\"text-align: right;\">\n      <th></th>\n      <th>size n</th>\n      <th>epsilon</th>\n      <th>Cond(A)</th>\n      <th>LU iterations</th>\n      <th>Seidel iterations</th>\n    </tr>\n  </thead>\n  <tbody>\n    <tr>\n      <th>0</th>\n      <td>5</td>\n      <td>0.01</td>\n      <td>4.808491e+05</td>\n      <td>119</td>\n      <td>1375</td>\n    </tr>\n    <tr>\n      <th>1</th>\n      <td>10</td>\n      <td>0.01</td>\n      <td>1.633163e+13</td>\n      <td>714</td>\n      <td>16300</td>\n    </tr>\n    <tr>\n      <th>2</th>\n      <td>50</td>\n      <td>0.01</td>\n      <td>1.765061e+19</td>\n      <td>67574</td>\n      <td>100000</td>\n    </tr>\n    <tr>\n      <th>3</th>\n      <td>100</td>\n      <td>0.01</td>\n      <td>2.007829e+19</td>\n      <td>520149</td>\n      <td>100000</td>\n    </tr>\n  </tbody>\n</table>\n</div>"
     },
     "execution_count": 30,
     "metadata": {},
     "output_type": "execute_result"
    }
   ],
   "source": [
    "build_table(generate_gilbert_matrix, 0.01)"
   ],
   "metadata": {
    "collapsed": false,
    "pycharm": {
     "name": "#%%\n"
    }
   }
  },
  {
   "cell_type": "code",
   "execution_count": 49,
   "outputs": [],
   "source": [
    "def build_table2(eps):\n",
    "\n",
    "    seidel_res = []\n",
    "    lu_res = []\n",
    "    obusl = []\n",
    "    sizes = [5, 10, 20, 30, 40, 50, 60, 70, 80, 90, 100]\n",
    "    precisions = [eps for i in sizes]\n",
    "\n",
    "    for n in sizes:\n",
    "        a = sparse.csr_matrix(np.random.uniform(low=1, high=100, size=(n, n)))\n",
    "        ans = np.array([i for i in range(1, n + 1)])\n",
    "        b = a.dot(ans)\n",
    "        obusl.append(get_conditional_number(a.copy()))\n",
    "        answer_lu, it1 = linear_equations_system_solve(a.copy(), sparse.csr_matrix(b.copy()))\n",
    "        answer_sei, it2 = seidel(a, b, eps)\n",
    "        lu_res.append(it1)\n",
    "        seidel_res.append(it2)\n",
    "\n",
    "    data = {\"size n\": sizes,\n",
    "            \"epsilon\": precisions,\n",
    "            \"Cond(A)\": obusl,\n",
    "            \"LU iterations\": lu_res,\n",
    "            \"Seidel iterations\": seidel_res}\n",
    "\n",
    "    df = pd.DataFrame(data)\n",
    "\n",
    "    return df"
   ],
   "metadata": {
    "collapsed": false,
    "pycharm": {
     "name": "#%%\n"
    }
   }
  },
  {
   "cell_type": "code",
   "execution_count": 50,
   "outputs": [
    {
     "name": "stderr",
     "output_type": "stream",
     "text": [
      "D:\\ITMO_AppliedMath\\Lab3\\tools\\seidel.py:28: RuntimeWarning: overflow encountered in double_scalars\n",
      "  s = s + A[i, j] * x[j]\n",
      "D:\\ITMO_AppliedMath\\Lab3\\tools\\seidel.py:28: RuntimeWarning: invalid value encountered in double_scalars\n",
      "  s = s + A[i, j] * x[j]\n"
     ]
    },
    {
     "data": {
      "text/plain": "    size n  epsilon      Cond(A)  LU iterations  Seidel iterations\n0        5     0.01    56.926044            119              23650\n1       10     0.01    48.103055            714              15100\n2       20     0.01  4538.432128           4829              53600\n3       30     0.01   304.302476          15344              50400\n4       40     0.01  3797.965538          35259              41600\n5       50     0.01   694.598459          67574             100000\n6       60     0.01  2001.536347         115289             100800\n7       70     0.01  1506.864974         181404             102900\n8       80     0.01  1398.620929         268919             102400\n9       90     0.01  7886.013817         380834             105300\n10     100     0.01  1693.847731         520149             100000",
      "text/html": "<div>\n<style scoped>\n    .dataframe tbody tr th:only-of-type {\n        vertical-align: middle;\n    }\n\n    .dataframe tbody tr th {\n        vertical-align: top;\n    }\n\n    .dataframe thead th {\n        text-align: right;\n    }\n</style>\n<table border=\"1\" class=\"dataframe\">\n  <thead>\n    <tr style=\"text-align: right;\">\n      <th></th>\n      <th>size n</th>\n      <th>epsilon</th>\n      <th>Cond(A)</th>\n      <th>LU iterations</th>\n      <th>Seidel iterations</th>\n    </tr>\n  </thead>\n  <tbody>\n    <tr>\n      <th>0</th>\n      <td>5</td>\n      <td>0.01</td>\n      <td>56.926044</td>\n      <td>119</td>\n      <td>23650</td>\n    </tr>\n    <tr>\n      <th>1</th>\n      <td>10</td>\n      <td>0.01</td>\n      <td>48.103055</td>\n      <td>714</td>\n      <td>15100</td>\n    </tr>\n    <tr>\n      <th>2</th>\n      <td>20</td>\n      <td>0.01</td>\n      <td>4538.432128</td>\n      <td>4829</td>\n      <td>53600</td>\n    </tr>\n    <tr>\n      <th>3</th>\n      <td>30</td>\n      <td>0.01</td>\n      <td>304.302476</td>\n      <td>15344</td>\n      <td>50400</td>\n    </tr>\n    <tr>\n      <th>4</th>\n      <td>40</td>\n      <td>0.01</td>\n      <td>3797.965538</td>\n      <td>35259</td>\n      <td>41600</td>\n    </tr>\n    <tr>\n      <th>5</th>\n      <td>50</td>\n      <td>0.01</td>\n      <td>694.598459</td>\n      <td>67574</td>\n      <td>100000</td>\n    </tr>\n    <tr>\n      <th>6</th>\n      <td>60</td>\n      <td>0.01</td>\n      <td>2001.536347</td>\n      <td>115289</td>\n      <td>100800</td>\n    </tr>\n    <tr>\n      <th>7</th>\n      <td>70</td>\n      <td>0.01</td>\n      <td>1506.864974</td>\n      <td>181404</td>\n      <td>102900</td>\n    </tr>\n    <tr>\n      <th>8</th>\n      <td>80</td>\n      <td>0.01</td>\n      <td>1398.620929</td>\n      <td>268919</td>\n      <td>102400</td>\n    </tr>\n    <tr>\n      <th>9</th>\n      <td>90</td>\n      <td>0.01</td>\n      <td>7886.013817</td>\n      <td>380834</td>\n      <td>105300</td>\n    </tr>\n    <tr>\n      <th>10</th>\n      <td>100</td>\n      <td>0.01</td>\n      <td>1693.847731</td>\n      <td>520149</td>\n      <td>100000</td>\n    </tr>\n  </tbody>\n</table>\n</div>"
     },
     "execution_count": 50,
     "metadata": {},
     "output_type": "execute_result"
    }
   ],
   "source": [
    "build_table2(0.01)"
   ],
   "metadata": {
    "collapsed": false,
    "pycharm": {
     "name": "#%%\n"
    }
   }
  }
 ],
 "metadata": {
  "kernelspec": {
   "display_name": "Python 3",
   "language": "python",
   "name": "python3"
  },
  "language_info": {
   "codemirror_mode": {
    "name": "ipython",
    "version": 2
   },
   "file_extension": ".py",
   "mimetype": "text/x-python",
   "name": "python",
   "nbconvert_exporter": "python",
   "pygments_lexer": "ipython2",
   "version": "2.7.6"
  }
 },
 "nbformat": 4,
 "nbformat_minor": 0
}