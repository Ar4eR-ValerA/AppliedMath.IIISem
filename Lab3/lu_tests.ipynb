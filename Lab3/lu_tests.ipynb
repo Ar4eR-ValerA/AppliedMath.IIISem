{
 "cells": [
  {
   "cell_type": "code",
   "execution_count": 13,
   "metadata": {
    "collapsed": true
   },
   "outputs": [
    {
     "ename": "ImportError",
     "evalue": "cannot import name 'linear_equations_system_solve' from 'tools.linearEquationsSystemSolve' (E:\\ITMO prog\\Prog\\Py\\ITMO_AppliedMath\\Lab3\\tools\\linearEquationsSystemSolve.py)",
     "output_type": "error",
     "traceback": [
      "\u001B[1;31m---------------------------------------------------------------------------\u001B[0m",
      "\u001B[1;31mImportError\u001B[0m                               Traceback (most recent call last)",
      "Input \u001B[1;32mIn [13]\u001B[0m, in \u001B[0;36m<cell line: 5>\u001B[1;34m()\u001B[0m\n\u001B[0;32m      3\u001B[0m \u001B[38;5;28;01mfrom\u001B[39;00m \u001B[38;5;21;01mtools\u001B[39;00m\u001B[38;5;21;01m.\u001B[39;00m\u001B[38;5;21;01mluDecomposition\u001B[39;00m \u001B[38;5;28;01mimport\u001B[39;00m lu_decomposition\n\u001B[0;32m      4\u001B[0m \u001B[38;5;28;01mfrom\u001B[39;00m \u001B[38;5;21;01mtools\u001B[39;00m\u001B[38;5;21;01m.\u001B[39;00m\u001B[38;5;21;01minverseMatrix\u001B[39;00m \u001B[38;5;28;01mimport\u001B[39;00m inverse_matrix\n\u001B[1;32m----> 5\u001B[0m \u001B[38;5;28;01mfrom\u001B[39;00m \u001B[38;5;21;01mtools\u001B[39;00m\u001B[38;5;21;01m.\u001B[39;00m\u001B[38;5;21;01mlinearEquationsSystemSolve\u001B[39;00m \u001B[38;5;28;01mimport\u001B[39;00m linear_equations_system_solve\n\u001B[0;32m      6\u001B[0m \u001B[38;5;28;01mfrom\u001B[39;00m \u001B[38;5;21;01mtools\u001B[39;00m\u001B[38;5;21;01m.\u001B[39;00m\u001B[38;5;21;01mseidel\u001B[39;00m \u001B[38;5;28;01mimport\u001B[39;00m seidel\n",
      "\u001B[1;31mImportError\u001B[0m: cannot import name 'linear_equations_system_solve' from 'tools.linearEquationsSystemSolve' (E:\\ITMO prog\\Prog\\Py\\ITMO_AppliedMath\\Lab3\\tools\\linearEquationsSystemSolve.py)"
     ]
    }
   ],
   "source": [
    "import numpy as np\n",
    "from scipy import sparse\n",
    "from tools.luDecomposition import lu_decomposition\n",
    "from tools.inverseMatrix import inverse_matrix\n",
    "from tools.linearEquationsSystemSolve import linear_equations_system_solve\n",
    "from tools.seidel import seidel"
   ]
  },
  {
   "cell_type": "code",
   "execution_count": null,
   "outputs": [],
   "source": [
    "def lu_operations(a: sparse.csr_matrix, b: np.array):\n",
    "    l, u, iteration_count_decomposition = lu_decomposition(a)\n",
    "    inverse_a, iteration_count_inversion = inverse_matrix(a)\n",
    "\n",
    "    print(\"A:\")\n",
    "    print(a.toarray())\n",
    "\n",
    "    print(\"L:\")\n",
    "    print(l.toarray())\n",
    "\n",
    "    print(\"U:\")\n",
    "    print(u.toarray())\n",
    "\n",
    "    print(\"L * U:\")\n",
    "    print(l.dot(u).toarray())\n",
    "\n",
    "    print(\"Iteration number\")\n",
    "    print(iteration_count_decomposition)\n",
    "    print(\">-----------------------------------------<\")\n",
    "\n",
    "    print(\"Inverse A:\")\n",
    "    print(inverse_a.toarray())\n",
    "\n",
    "    print(\"(Inverse A) * A:\")\n",
    "    print(inverse_a.dot(a).toarray())\n",
    "\n",
    "    print(\"Iteration number\")\n",
    "    print(iteration_count_inversion)\n",
    "    print(\">-----------------------------------------<\")\n",
    "\n",
    "    answer, iteration_count = linear_equations_system_solve(a, b)\n",
    "    print(\"Solution of system A with B vector (lu method)\")\n",
    "    print(answer.transpose().toarray())\n",
    "\n",
    "    print(\"Iteration number\")\n",
    "    print(iteration_count)\n",
    "    print(\">-----------------------------------------<\")\n",
    "\n",
    "    answer, iteration_count = seidel(a, b, 0.000001)\n",
    "    print(\"Solution of system A with B vector (Seidel method)\")\n",
    "    print(answer)\n",
    "    print(\"Iteration number\")\n",
    "    print(iteration_count)\n",
    "    print(\">-----------------------------------------<\")"
   ],
   "metadata": {
    "collapsed": false,
    "pycharm": {
     "name": "#%%\n"
    }
   }
  },
  {
   "cell_type": "code",
   "execution_count": 15,
   "outputs": [
    {
     "name": "stdout",
     "output_type": "stream",
     "text": [
      "A:\n",
      "[[10. -3.  5.]\n",
      " [-7.  6. -1.]\n",
      " [ 0.  2.  5.]]\n",
      "L:\n",
      "[[ 1.          0.          0.        ]\n",
      " [-0.7         1.          0.        ]\n",
      " [ 0.          0.51282051  1.        ]]\n",
      "U:\n",
      "[[10.         -3.          5.        ]\n",
      " [ 0.          3.9         2.5       ]\n",
      " [ 0.          0.          3.71794872]]\n",
      "L * U:\n",
      "[[10. -3.  5.]\n",
      " [-7.  6. -1.]\n",
      " [ 0.  2.  5.]]\n",
      "Iteration number\n",
      "23\n",
      ">-----------------------------------------<\n",
      "Inverse A:\n",
      "[[ 0.22068966  0.17241379 -0.1862069 ]\n",
      " [ 0.24137931  0.34482759 -0.17241379]\n",
      " [-0.09655172 -0.13793103  0.26896552]]\n",
      "(Inverse A) * A:\n",
      "[[ 1.00000000e+00 -1.11022302e-16  2.22044605e-16]\n",
      " [ 0.00000000e+00  1.00000000e+00  1.11022302e-16]\n",
      " [ 0.00000000e+00  0.00000000e+00  1.00000000e+00]]\n",
      "Iteration number\n",
      "59\n",
      ">-----------------------------------------<\n",
      "Solution of system A with B vector [1, 2, 3] (Seidel method)\n",
      "[0.00689702 0.41379359 0.43448257]\n",
      "Iteration number\n",
      "54\n",
      ">-----------------------------------------<\n"
     ]
    }
   ],
   "source": [
    "lu_operations(sparse.csr_matrix([[10., -3., 5.], [-7., 6., -1.], [0., 2., 5.]]), np.array([1., 2., 3.]))"
   ],
   "metadata": {
    "collapsed": false,
    "pycharm": {
     "name": "#%%\n"
    }
   }
  },
  {
   "cell_type": "code",
   "execution_count": 14,
   "outputs": [
    {
     "name": "stdout",
     "output_type": "stream",
     "text": [
      "A:\n",
      "[[20.  0.  5.  4.]\n",
      " [-7.  3. -1.  9.]\n",
      " [10.  2. -4.  2.]\n",
      " [ 2.  9. 11. 55.]]\n",
      "L:\n",
      "[[ 1.          0.          0.          0.        ]\n",
      " [-0.35        1.          0.          0.        ]\n",
      " [ 0.5         0.66666667  1.          0.        ]\n",
      " [ 0.1         3.         -1.17857143  1.        ]]\n",
      "U:\n",
      "[[20.          0.          5.          4.        ]\n",
      " [ 0.          3.          0.75       10.4       ]\n",
      " [ 0.          0.         -7.         -6.93333333]\n",
      " [ 0.          0.          0.         15.22857143]]\n",
      "L * U:\n",
      "[[20.  0.  5.  4.]\n",
      " [-7.  3. -1.  9.]\n",
      " [10.  2. -4.  2.]\n",
      " [ 2.  9. 11. 55.]]\n",
      "Iteration number\n",
      "49\n",
      ">-----------------------------------------<\n",
      "Inverse A:\n",
      "[[ 0.01751094 -0.03564728  0.03939962  0.00312695]\n",
      " [ 0.51626016  1.1097561  -0.21341463 -0.21138211]\n",
      " [ 0.23577236  0.34146341 -0.2195122  -0.06504065]\n",
      " [-0.13227017 -0.24859287  0.07739212  0.06566604]]\n",
      "(Inverse A) * A:\n",
      "[[ 1.00000000e+00  2.42861287e-17  6.93889390e-18  2.77555756e-17]\n",
      " [-3.49720253e-15  1.00000000e+00 -4.44089210e-16  0.00000000e+00]\n",
      " [-1.94289029e-16  0.00000000e+00  1.00000000e+00  0.00000000e+00]\n",
      " [ 8.32667268e-17 -1.11022302e-16 -1.11022302e-16  1.00000000e+00]]\n",
      "Iteration number\n",
      "129\n",
      ">-----------------------------------------<\n",
      "Solution of system A with B vector [1, 2, 3] (Seidel method)\n",
      "[ 7.69231233e-02  1.24999858e+00 -3.69391401e-07 -1.34615080e-01]\n",
      "Iteration number\n",
      "136\n",
      ">-----------------------------------------<\n"
     ]
    }
   ],
   "source": [
    "lu_operations(sparse.csr_matrix([[20., 0., 5., 4.], [-7., 3., -1., 9], [10., 2., -4., 2], [2., 9., 11., 55.]])\n",
    "              ,np.array([1., 2., 3., 4.]))"
   ],
   "metadata": {
    "collapsed": false,
    "pycharm": {
     "name": "#%%\n"
    }
   }
  },
  {
   "cell_type": "code",
   "execution_count": null,
   "outputs": [
    {
     "name": "stdout",
     "output_type": "stream",
     "text": [
      "A:\n",
      "[[20.  0.  5.  4.  7.]\n",
      " [-7.  3. -1.  9.  9.]\n",
      " [10.  2. -4.  2.  2.]\n",
      " [ 2.  9. 11. 55.  5.]\n",
      " [ 7.  9.  6.  9.  5.]]\n",
      "L:\n",
      "[[ 1.          0.          0.          0.          0.        ]\n",
      " [-0.35        1.          0.          0.          0.        ]\n",
      " [ 0.5         0.66666667  1.          0.          0.        ]\n",
      " [ 0.1         3.         -1.17857143  1.          0.        ]\n",
      " [ 0.35        3.         -0.28571429 -1.67979987  1.        ]]\n",
      "U:\n",
      "[[  20.            0.            5.            4.            7.        ]\n",
      " [   0.            3.            0.75         10.4          11.45      ]\n",
      " [   0.            0.           -7.           -6.93333333   -9.13333333]\n",
      " [   0.            0.            0.           15.22857143  -40.81428571]\n",
      " [   0.            0.            0.            0.         -102.96935585]]\n",
      "L * U:\n",
      "[[20.  0.  5.  4.  7.]\n",
      " [-7.  3. -1.  9.  9.]\n",
      " [10.  2. -4.  2.  2.]\n",
      " [ 2.  9. 11. 55.  5.]\n",
      " [ 7.  9.  6.  9.  5.]]\n",
      "Iteration number\n",
      "89\n",
      ">-----------------------------------------<\n",
      "Inverse A:\n",
      "[[ 2.25450658e-02 -2.60191439e-02  3.71155435e-02  1.43336087e-03\n",
      "  -1.00821146e-03]\n",
      " [-7.13522181e-02 -1.40967397e-02  5.31968199e-02 -1.36958846e-02\n",
      "   1.17684393e-01]\n",
      " [ 4.37782421e-02 -2.57397600e-02 -1.32400637e-01 -4.49443662e-04\n",
      "   3.84517273e-02]\n",
      " [-2.30795394e-03 -3.03678150e-05  1.84256717e-02  2.19437831e-02\n",
      "  -2.60282542e-02]\n",
      " [ 4.84913270e-02  9.27433069e-02 -2.20014819e-02 -1.63135902e-02\n",
      "  -9.71162723e-03]]\n",
      "(Inverse A) * A:\n",
      "[[ 1.00000000e+00 -1.38777878e-17  2.42861287e-17 -2.60208521e-17\n",
      "   1.38777878e-17]\n",
      " [-6.66133815e-16  1.00000000e+00 -4.44089210e-16  0.00000000e+00\n",
      "  -6.66133815e-16]\n",
      " [ 2.22044605e-16  1.11022302e-16  1.00000000e+00  1.11022302e-16\n",
      "  -2.22044605e-16]\n",
      " [ 2.77555756e-17 -2.77555756e-17  1.11022302e-16  1.00000000e+00\n",
      "   1.66533454e-16]\n",
      " [ 2.77555756e-17 -2.77555756e-17  1.38777878e-17 -2.77555756e-17\n",
      "   1.00000000e+00]]\n",
      "Iteration number\n",
      "239\n",
      ">-----------------------------------------<\n"
     ]
    },
    {
     "name": "stderr",
     "output_type": "stream",
     "text": [
      "E:\\ITMO prog\\Prog\\Py\\ITMO_AppliedMath\\Lab3\\tools\\seidel.py:19: RuntimeWarning: overflow encountered in double_scalars\n",
      "  converge = np.sqrt(sum((x_new[i] - x[i]) ** 2 for i in range(n))) <= eps\n",
      "E:\\ITMO prog\\Prog\\Py\\ITMO_AppliedMath\\Lab3\\tools\\seidel.py:14: RuntimeWarning: overflow encountered in double_scalars\n",
      "  s1 = sum(a[i, j] * x_new[j] for j in range(i))\n",
      "E:\\ITMO prog\\Prog\\Py\\ITMO_AppliedMath\\Lab3\\tools\\seidel.py:14: RuntimeWarning: invalid value encountered in double_scalars\n",
      "  s1 = sum(a[i, j] * x_new[j] for j in range(i))\n"
     ]
    }
   ],
   "source": [
    "lu_operations(sparse.csr_matrix([[20., 0., 5., 4., 7.], [-7., 3., -1., 9., 9.],\n",
    "                                 [10., 2., -4., 2, 2.], [2., 9., 11., 55., 5.], [7., 9., 6., 9., 5.]]),\n",
    "              np.array([1., 2., 3., 4., 5.]))"
   ],
   "metadata": {
    "collapsed": false,
    "pycharm": {
     "name": "#%%\n",
     "is_executing": true
    }
   }
  }
 ],
 "metadata": {
  "kernelspec": {
   "display_name": "Python 3",
   "language": "python",
   "name": "python3"
  },
  "language_info": {
   "codemirror_mode": {
    "name": "ipython",
    "version": 2
   },
   "file_extension": ".py",
   "mimetype": "text/x-python",
   "name": "python",
   "nbconvert_exporter": "python",
   "pygments_lexer": "ipython2",
   "version": "2.7.6"
  }
 },
 "nbformat": 4,
 "nbformat_minor": 0
}