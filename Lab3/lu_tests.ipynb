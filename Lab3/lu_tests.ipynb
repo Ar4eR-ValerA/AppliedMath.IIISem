{
 "cells": [
  {
   "cell_type": "code",
   "execution_count": 22,
   "metadata": {
    "collapsed": true
   },
   "outputs": [],
   "source": [
    "import numpy as np\n",
    "from scipy import sparse\n",
    "from tools.luDecomposition import lu_decomposition\n",
    "from tools.inverseMatrix import inverse_matrix\n",
    "from tools.linearEquationsSystemSolve import linear_equations_system_solve\n",
    "from tools.seidel import seidel"
   ]
  },
  {
   "cell_type": "code",
   "execution_count": 23,
   "outputs": [],
   "source": [
    "def lu_operations(a: sparse.csr_matrix):\n",
    "    l, u = lu_decomposition(a)\n",
    "    inverse_a = inverse_matrix(a)\n",
    "\n",
    "    print(\"A:\")\n",
    "    print(a.toarray())\n",
    "\n",
    "    print(\"L:\")\n",
    "    print(l.toarray())\n",
    "\n",
    "    print(\"U:\")\n",
    "    print(u.toarray())\n",
    "\n",
    "    print(\"L * U:\")\n",
    "    print(l.dot(u).toarray())\n",
    "\n",
    "    print(\"Inverse A:\")\n",
    "    print(inverse_a.toarray())\n",
    "\n",
    "    print(\"(Inverse A) * A:\")\n",
    "    print(inverse_a.dot(a).toarray())\n",
    "\n",
    "    b = sparse.csr_matrix([[1.], [2.], [3.]])\n",
    "    print(\"Solution of system A with B vector [1, 2, 3] (lu method)\")\n",
    "    print(linear_equations_system_solve(a, b).transpose().toarray())\n",
    "\n",
    "    b = np.array([1., 2., 3.])\n",
    "    print(\"Solution of system A with B vector [1, 2, 3] (Seidel method)\")\n",
    "    print(seidel(a, b, 0.000001))"
   ],
   "metadata": {
    "collapsed": false,
    "pycharm": {
     "name": "#%%\n"
    }
   }
  },
  {
   "cell_type": "code",
   "execution_count": 24,
   "outputs": [
    {
     "name": "stdout",
     "output_type": "stream",
     "text": [
      "Подходящая матрица #1\n",
      "A:\n",
      "[[10. -3.  5.]\n",
      " [-7.  6. -1.]\n",
      " [ 0.  2.  5.]]\n",
      "L:\n",
      "[[ 1.          0.          0.        ]\n",
      " [-0.7         1.          0.        ]\n",
      " [ 0.          0.51282051  1.        ]]\n",
      "U:\n",
      "[[10.         -3.          5.        ]\n",
      " [ 0.          3.9         2.5       ]\n",
      " [ 0.          0.          3.71794872]]\n",
      "L * U:\n",
      "[[10. -3.  5.]\n",
      " [-7.  6. -1.]\n",
      " [ 0.  2.  5.]]\n",
      "Inverse A:\n",
      "[[ 0.22068966  0.17241379 -0.1862069 ]\n",
      " [ 0.24137931  0.34482759 -0.17241379]\n",
      " [-0.09655172 -0.13793103  0.26896552]]\n",
      "(Inverse A) * A:\n",
      "[[ 1.00000000e+00 -1.11022302e-16  2.22044605e-16]\n",
      " [ 0.00000000e+00  1.00000000e+00  1.11022302e-16]\n",
      " [ 0.00000000e+00  0.00000000e+00  1.00000000e+00]]\n",
      "Solution of system A with B vector [1, 2, 3] (lu method)\n",
      "[[0.00689655 0.4137931  0.43448276]]\n",
      "Solution of system A with B vector [1, 2, 3] (Seidel method)\n",
      "[0.00689702 0.41379359 0.43448257]\n"
     ]
    }
   ],
   "source": [
    "print(\"Подходящая матрица #1\")\n",
    "lu_operations(sparse.csr_matrix([[10., -3., 5.], [-7., 6., -1.], [0., 2., 5.]]))"
   ],
   "metadata": {
    "collapsed": false,
    "pycharm": {
     "name": "#%%\n"
    }
   }
  },
  {
   "cell_type": "code",
   "execution_count": 25,
   "outputs": [
    {
     "name": "stdout",
     "output_type": "stream",
     "text": [
      "Подходящая матрица #2\n",
      "A:\n",
      "[[20.  0.  5.]\n",
      " [-7.  3. -1.]\n",
      " [10.  2. -4.]]\n",
      "L:\n",
      "[[ 1.          0.          0.        ]\n",
      " [-0.35        1.          0.        ]\n",
      " [ 0.5         0.66666667  1.        ]]\n",
      "U:\n",
      "[[20.    0.    5.  ]\n",
      " [ 0.    3.    0.75]\n",
      " [ 0.    0.   -7.  ]]\n",
      "L * U:\n",
      "[[20.  0.  5.]\n",
      " [-7.  3. -1.]\n",
      " [10.  2. -4.]]\n",
      "Inverse A:\n",
      "[[ 0.02380952 -0.02380952  0.03571429]\n",
      " [ 0.09047619  0.30952381  0.03571429]\n",
      " [ 0.1047619   0.0952381  -0.14285714]]\n",
      "(Inverse A) * A:\n",
      "[[ 1.00000000e+00  0.00000000e+00  2.77555756e-17]\n",
      " [-3.33066907e-16  1.00000000e+00  0.00000000e+00]\n",
      " [ 0.00000000e+00  0.00000000e+00  1.00000000e+00]]\n",
      "Solution of system A with B vector [1, 2, 3] (lu method)\n",
      "[[ 0.08333333  0.81666667 -0.13333333]]\n",
      "Solution of system A with B vector [1, 2, 3] (Seidel method)\n",
      "[ 0.08333323  0.81666656 -0.13333365]\n"
     ]
    }
   ],
   "source": [
    "print(\"Подходящая матрица #2\")\n",
    "lu_operations(sparse.csr_matrix([[20., 0., 5.], [-7., 3., -1.], [10., 2., -4.]]))"
   ],
   "metadata": {
    "collapsed": false,
    "pycharm": {
     "name": "#%%\n"
    }
   }
  },
  {
   "cell_type": "code",
   "execution_count": 26,
   "outputs": [
    {
     "name": "stdout",
     "output_type": "stream",
     "text": [
      "Подходящая матрица #3\n",
      "A:\n",
      "[[ 6. -3.  3.]\n",
      " [ 2.  2. -8.]\n",
      " [ 1. -2.  9.]]\n",
      "L:\n",
      "[[ 1.          0.          0.        ]\n",
      " [ 0.33333333  1.          0.        ]\n",
      " [ 0.16666667 -0.5         1.        ]]\n",
      "U:\n",
      "[[ 6. -3.  3.]\n",
      " [ 0.  3. -9.]\n",
      " [ 0.  0.  4.]]\n",
      "L * U:\n",
      "[[ 6. -3.  3.]\n",
      " [ 2.  2. -8.]\n",
      " [ 1. -2.  9.]]\n",
      "Inverse A:\n",
      "[[ 0.02777778  0.29166667  0.25      ]\n",
      " [-0.36111111  0.70833333  0.75      ]\n",
      " [-0.08333333  0.125       0.25      ]]\n",
      "(Inverse A) * A:\n",
      "[[1.00000000e+00 0.00000000e+00 0.00000000e+00]\n",
      " [2.22044605e-16 1.00000000e+00 0.00000000e+00]\n",
      " [0.00000000e+00 0.00000000e+00 1.00000000e+00]]\n",
      "Solution of system A with B vector [1, 2, 3] (lu method)\n",
      "[[1.36111111 3.30555556 0.91666667]]\n",
      "Solution of system A with B vector [1, 2, 3] (Seidel method)\n",
      "[1.36111078 3.30555483 0.91666654]\n"
     ]
    }
   ],
   "source": [
    "print(\"Подходящая матрица #3\")\n",
    "lu_operations(sparse.csr_matrix([[6., -3., 3.], [2., 2., -8.], [1., -2., 9.]]))"
   ],
   "metadata": {
    "collapsed": false,
    "pycharm": {
     "name": "#%%\n"
    }
   }
  },
  {
   "cell_type": "code",
   "execution_count": 27,
   "outputs": [
    {
     "name": "stdout",
     "output_type": "stream",
     "text": [
      "Неподходящая матрица #1\n",
      "A:\n",
      "[[1. 1. 1.]\n",
      " [2. 2. 2.]\n",
      " [3. 3. 3.]]\n",
      "L:\n",
      "[[ 1.  0.  0.]\n",
      " [ 2. nan  0.]\n",
      " [ 3. nan nan]]\n",
      "U:\n",
      "[[ 1.  1.  1.]\n",
      " [ 0.  0.  0.]\n",
      " [ 0. nan nan]]\n",
      "L * U:\n",
      "[[ 1.  1.  1.]\n",
      " [ 2.  2.  2.]\n",
      " [ 3. nan nan]]\n",
      "Inverse A:\n",
      "[[nan nan nan]\n",
      " [nan nan nan]\n",
      " [nan nan nan]]\n",
      "(Inverse A) * A:\n",
      "[[nan nan nan]\n",
      " [nan nan nan]\n",
      " [nan nan nan]]\n",
      "Solution of system A with B vector [1, 2, 3] (lu method)\n",
      "[[nan nan nan]]\n",
      "Solution of system A with B vector [1, 2, 3] (Seidel method)\n",
      "[1. 0. 0.]\n"
     ]
    },
    {
     "name": "stderr",
     "output_type": "stream",
     "text": [
      "E:\\ITMO prog\\Prog\\Py\\ITMO_AppliedMath\\Lab3\\tools\\luDecomposition.py:27: RuntimeWarning: invalid value encountered in double_scalars\n",
      "  l[j, i] = u[j, i] / u[i, i]\n",
      "E:\\ITMO prog\\Prog\\Py\\ITMO_AppliedMath\\venv\\lib\\site-packages\\scipy\\sparse\\linalg\\_dsolve\\linsolve.py:206: MatrixRankWarning: Matrix is exactly singular\n",
      "  warn(\"Matrix is exactly singular\", MatrixRankWarning)\n"
     ]
    }
   ],
   "source": [
    "print(\"Неподходящая матрица #1\")\n",
    "lu_operations(sparse.csr_matrix([[1., 1., 1.], [2., 2., 2.], [3., 3., 3.]]))\n"
   ],
   "metadata": {
    "collapsed": false,
    "pycharm": {
     "name": "#%%\n"
    }
   }
  },
  {
   "cell_type": "code",
   "execution_count": null,
   "outputs": [
    {
     "name": "stdout",
     "output_type": "stream",
     "text": [
      "Неподходящая матрица #2\n",
      "A:\n",
      "[[1. 1. 1.]\n",
      " [5. 2. 5.]\n",
      " [0. 0. 0.]]\n",
      "L:\n",
      "[[ 1.  0.  0.]\n",
      " [ 5.  1.  0.]\n",
      " [ 0.  0. nan]]\n",
      "U:\n",
      "[[ 1.  1.  1.]\n",
      " [ 0. -3.  0.]\n",
      " [ 0.  0.  0.]]\n",
      "L * U:\n",
      "[[1. 1. 1.]\n",
      " [5. 2. 5.]\n",
      " [0. 0. 0.]]\n",
      "Inverse A:\n",
      "[[nan nan nan]\n",
      " [nan nan nan]\n",
      " [nan nan nan]]\n",
      "(Inverse A) * A:\n",
      "[[nan nan nan]\n",
      " [nan nan nan]\n",
      " [nan nan nan]]\n",
      "Solution of system A with B vector [1, 2, 3] (lu method)\n",
      "[[nan nan nan]]\n",
      "Solution of system A with B vector [1, 2, 3] (Seidel method)\n"
     ]
    },
    {
     "name": "stderr",
     "output_type": "stream",
     "text": [
      "E:\\ITMO prog\\Prog\\Py\\ITMO_AppliedMath\\Lab3\\tools\\luDecomposition.py:22: RuntimeWarning: invalid value encountered in double_scalars\n",
      "  l[j, i] = u[j, i] / u[i, i]\n",
      "E:\\ITMO prog\\Prog\\Py\\ITMO_AppliedMath\\Lab3\\tools\\seidel.py:15: RuntimeWarning: divide by zero encountered in double_scalars\n",
      "  x_new[i] = (b[i] - s1 - s2) / a[i, i]\n",
      "E:\\ITMO prog\\Prog\\Py\\ITMO_AppliedMath\\Lab3\\tools\\seidel.py:15: RuntimeWarning: invalid value encountered in double_scalars\n",
      "  x_new[i] = (b[i] - s1 - s2) / a[i, i]\n",
      "E:\\ITMO prog\\Prog\\Py\\ITMO_AppliedMath\\Lab3\\tools\\seidel.py:13: RuntimeWarning: invalid value encountered in double_scalars\n",
      "  s1 = sum(a[i, j] * x_new[j] for j in range(i))\n"
     ]
    }
   ],
   "source": [
    "print(\"Неподходящая матрица #2\")\n",
    "lu_operations(sparse.csr_matrix([[1., 1., 1.], [5., 2., 5.], [0., 0., 0.]]))\n"
   ],
   "metadata": {
    "collapsed": false,
    "pycharm": {
     "name": "#%%\n",
     "is_executing": true
    }
   }
  }
 ],
 "metadata": {
  "kernelspec": {
   "display_name": "Python 3",
   "language": "python",
   "name": "python3"
  },
  "language_info": {
   "codemirror_mode": {
    "name": "ipython",
    "version": 2
   },
   "file_extension": ".py",
   "mimetype": "text/x-python",
   "name": "python",
   "nbconvert_exporter": "python",
   "pygments_lexer": "ipython2",
   "version": "2.7.6"
  }
 },
 "nbformat": 4,
 "nbformat_minor": 0
}