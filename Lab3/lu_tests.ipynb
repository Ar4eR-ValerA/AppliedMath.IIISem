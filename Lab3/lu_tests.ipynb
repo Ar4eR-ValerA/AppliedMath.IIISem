{
 "cells": [
  {
   "cell_type": "code",
   "execution_count": 1,
   "metadata": {
    "collapsed": true
   },
   "outputs": [],
   "source": [
    "import numpy as np\n",
    "from scipy import sparse\n",
    "from tools.luDecomposition import lu_decomposition\n",
    "from tools.inverseMatrix import inverse_matrix\n",
    "from tools.linearEquationsSystemSolve import linear_equations_system_solve\n",
    "from tools.seidel import seidel"
   ]
  },
  {
   "cell_type": "code",
   "execution_count": 2,
   "outputs": [],
   "source": [
    "def lu_operations(a: sparse.csr_matrix):\n",
    "    l, u, iteration_count_decomposition = lu_decomposition(a)\n",
    "    inverse_a, iteration_count_inversion = inverse_matrix(a)\n",
    "\n",
    "    print(\"A:\")\n",
    "    print(a.toarray())\n",
    "\n",
    "    print(\"L:\")\n",
    "    print(l.toarray())\n",
    "\n",
    "    print(\"U:\")\n",
    "    print(u.toarray())\n",
    "\n",
    "    print(\"L * U:\")\n",
    "    print(l.dot(u).toarray())\n",
    "\n",
    "    print(\"Iteration number\")\n",
    "    print(iteration_count_decomposition)\n",
    "    print(\">-----------------------------------------<\")\n",
    "\n",
    "    print(\"Inverse A:\")\n",
    "    print(inverse_a.toarray())\n",
    "\n",
    "    print(\"(Inverse A) * A:\")\n",
    "    print(inverse_a.dot(a).toarray())\n",
    "\n",
    "    print(\"Iteration number\")\n",
    "    print(iteration_count_inversion)\n",
    "    print(\">-----------------------------------------<\")\n",
    "\n",
    "    '''b = sparse.csr_matrix([[1.], [2.], [3.]])\n",
    "    answer, iteration_count = linear_equations_system_solve(a, b)\n",
    "    print(\"Solution of system A with B vector [1, 2, 3] (lu method)\")\n",
    "    print(answer.transpose().toarray())\n",
    "\n",
    "    print(\"Iteration number\")\n",
    "    print(iteration_count)\n",
    "    print(\">-----------------------------------------<\")'''\n",
    "\n",
    "    b = np.array([1., 2., 3.])\n",
    "    answer, iteration_count = seidel(a, b, 0.000001)\n",
    "    print(\"Solution of system A with B vector [1, 2, 3] (Seidel method)\")\n",
    "    print(answer)\n",
    "    print(\"Iteration number\")\n",
    "    print(iteration_count)\n",
    "    print(\">-----------------------------------------<\")"
   ],
   "metadata": {
    "collapsed": false,
    "pycharm": {
     "name": "#%%\n"
    }
   }
  },
  {
   "cell_type": "code",
   "execution_count": 3,
   "outputs": [
    {
     "name": "stdout",
     "output_type": "stream",
     "text": [
      "A:\n",
      "[[10. -3.  5.]\n",
      " [-7.  6. -1.]\n",
      " [ 0.  2.  5.]]\n",
      "L:\n",
      "[[ 1.          0.          0.        ]\n",
      " [-0.7         1.          0.        ]\n",
      " [ 0.          0.51282051  1.        ]]\n",
      "U:\n",
      "[[10.         -3.          5.        ]\n",
      " [ 0.          3.9         2.5       ]\n",
      " [ 0.          0.          3.71794872]]\n",
      "L * U:\n",
      "[[10. -3.  5.]\n",
      " [-7.  6. -1.]\n",
      " [ 0.  2.  5.]]\n",
      "Iteration number\n",
      "23\n",
      ">-----------------------------------------<\n",
      "Inverse A:\n",
      "[[ 0.19661892 -1.37844941  0.73134016]\n",
      " [-1.40466245 -2.7109868   0.61225091]\n",
      " [-5.58547382  4.12357038 -0.45001982]]\n",
      "(Inverse A) * A:\n",
      "[[ 11.61533509  -7.39787289   6.01824484]\n",
      " [  4.9302831  -10.82743164  -1.25107092]\n",
      " [-84.71973085  40.5978041  -34.30103855]]\n",
      "Iteration number\n",
      "93\n",
      ">-----------------------------------------<\n",
      "Solution of system A with B vector [1, 2, 3] (lu method)\n",
      "[[0.17367633 0.9262785  1.11871217]]\n",
      "Iteration number\n",
      "31\n",
      ">-----------------------------------------<\n",
      "Solution of system A with B vector [1, 2, 3] (Seidel method)\n",
      "[0.00689702 0.41379359 0.43448257]\n",
      "Iteration number\n",
      "54\n",
      ">-----------------------------------------<\n"
     ]
    }
   ],
   "source": [
    "lu_operations(sparse.csr_matrix([[10., -3., 5.], [-7., 6., -1.], [0., 2., 5.]]))"
   ],
   "metadata": {
    "collapsed": false,
    "pycharm": {
     "name": "#%%\n"
    }
   }
  },
  {
   "cell_type": "code",
   "execution_count": 4,
   "outputs": [
    {
     "name": "stdout",
     "output_type": "stream",
     "text": [
      "A:\n",
      "[[20.  0.  5.]\n",
      " [-7.  3. -1.]\n",
      " [10.  2. -4.]]\n",
      "L:\n",
      "[[ 1.          0.          0.        ]\n",
      " [-0.35        1.          0.        ]\n",
      " [ 0.5         0.66666667  1.        ]]\n",
      "U:\n",
      "[[20.    0.    5.  ]\n",
      " [ 0.    3.    0.75]\n",
      " [ 0.    0.   -7.  ]]\n",
      "L * U:\n",
      "[[20.  0.  5.]\n",
      " [-7.  3. -1.]\n",
      " [10.  2. -4.]]\n",
      "Iteration number\n",
      "23\n",
      ">-----------------------------------------<\n",
      "Inverse A:\n",
      "[[ 0.15407225 -0.05448221  0.07842004]\n",
      " [ 0.04251884  0.74966772  0.19670718]\n",
      " [-0.28701135  0.2501613  -0.2538578 ]]\n",
      "(Inverse A) * A:\n",
      "[[ 4.24702090e+00 -6.60655316e-03  5.11163295e-01]\n",
      " [-2.43022555e+00  2.64241753e+00 -1.32390224e+00]\n",
      " [-1.00299341e+01  2.42768290e-01 -6.69786841e-01]]\n",
      "Iteration number\n",
      "93\n",
      ">-----------------------------------------<\n",
      "Solution of system A with B vector [1, 2, 3] (lu method)\n",
      "[[0.56668994 1.70335761 0.59637488]]\n",
      "Iteration number\n",
      "31\n",
      ">-----------------------------------------<\n",
      "Solution of system A with B vector [1, 2, 3] (Seidel method)\n",
      "[ 0.08333323  0.81666656 -0.13333365]\n",
      "Iteration number\n",
      "135\n",
      ">-----------------------------------------<\n"
     ]
    }
   ],
   "source": [
    "lu_operations(sparse.csr_matrix([[20., 0., 5.], [-7., 3., -1.], [10., 2., -4.]]))"
   ],
   "metadata": {
    "collapsed": false,
    "pycharm": {
     "name": "#%%\n"
    }
   }
  },
  {
   "cell_type": "code",
   "execution_count": 5,
   "outputs": [
    {
     "name": "stdout",
     "output_type": "stream",
     "text": [
      "A:\n",
      "[[ 6. -3.  3.]\n",
      " [ 2.  2. -8.]\n",
      " [ 1. -2.  9.]]\n",
      "L:\n",
      "[[ 1.          0.          0.        ]\n",
      " [ 0.33333333  1.          0.        ]\n",
      " [ 0.16666667 -0.5         1.        ]]\n",
      "U:\n",
      "[[ 6. -3.  3.]\n",
      " [ 0.  3. -9.]\n",
      " [ 0.  0.  4.]]\n",
      "L * U:\n",
      "[[ 6. -3.  3.]\n",
      " [ 2.  2. -8.]\n",
      " [ 1. -2.  9.]]\n",
      "Iteration number\n",
      "23\n",
      ">-----------------------------------------<\n",
      "Inverse A:\n",
      "[[-4.95458270e+00  1.21352866e+02 -1.44536394e+03]\n",
      " [-1.29316113e+01 -1.75132750e+03  4.92654653e+03]\n",
      " [-1.42324736e+00 -3.26250434e+03  9.31148795e+03]]\n",
      "(Inverse A) * A:\n",
      "[[ -1232.38570774   3148.2973646  -13993.96215684]\n",
      " [  1346.30185732 -13316.9532449   58310.74401591]\n",
      " [  2777.93979193 -25143.71484517 109899.15656135]]\n",
      "Iteration number\n",
      "93\n",
      ">-----------------------------------------<\n",
      "Solution of system A with B vector [1, 2, 3] (lu method)\n",
      "[[-1.32478892e+08 -6.32257838e+08 -4.32889442e+08]]\n",
      "Iteration number\n",
      "31\n",
      ">-----------------------------------------<\n",
      "Solution of system A with B vector [1, 2, 3] (Seidel method)\n",
      "[1.36111078 3.30555483 0.91666654]\n",
      "Iteration number\n",
      "63\n",
      ">-----------------------------------------<\n"
     ]
    }
   ],
   "source": [
    "lu_operations(sparse.csr_matrix([[6., -3., 3.], [2., 2., -8.], [1., -2., 9.]]))\n"
   ],
   "metadata": {
    "collapsed": false,
    "pycharm": {
     "name": "#%%\n"
    }
   }
  }
 ],
 "metadata": {
  "kernelspec": {
   "display_name": "Python 3",
   "language": "python",
   "name": "python3"
  },
  "language_info": {
   "codemirror_mode": {
    "name": "ipython",
    "version": 2
   },
   "file_extension": ".py",
   "mimetype": "text/x-python",
   "name": "python",
   "nbconvert_exporter": "python",
   "pygments_lexer": "ipython2",
   "version": "2.7.6"
  }
 },
 "nbformat": 4,
 "nbformat_minor": 0
}