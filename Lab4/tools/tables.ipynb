{
 "cells": [
  {
   "cell_type": "code",
   "execution_count": 31,
   "metadata": {
    "collapsed": true
   },
   "outputs": [],
   "source": [
    "import copy\n",
    "\n",
    "import numpy as np\n",
    "import pandas as pd\n",
    "from tools import condition_number\n",
    "from tools import jacobi_method\n",
    "from tools import matrix_generator"
   ]
  },
  {
   "cell_type": "code",
   "execution_count": 34,
   "outputs": [],
   "source": [
    "def build_table(matrix, eps):\n",
    "\n",
    "    jacobi_res = []\n",
    "    obusl = []\n",
    "    sizes = [2, 3, 4, 5, 6, 7, 8, 9, 10]\n",
    "    precisions = [eps for i in sizes]\n",
    "\n",
    "    for n in sizes:\n",
    "        a = np.array(matrix(n))\n",
    "        obusl.append(condition_number.get_number(a))\n",
    "        ans, vec, iter = jacobi_method.jacobi_solve(a, eps);\n",
    "        jacobi_res.append(iter)\n",
    "\n",
    "    data = {\"size n\": sizes,\n",
    "            \"epsilon\": precisions,\n",
    "            \"cond(A)\": obusl,\n",
    "            \"iterations\": jacobi_res}\n",
    "\n",
    "    df = pd.DataFrame(data)\n",
    "\n",
    "    return df"
   ],
   "metadata": {
    "collapsed": false,
    "pycharm": {
     "name": "#%%\n"
    }
   }
  },
  {
   "cell_type": "code",
   "execution_count": 35,
   "outputs": [
    {
     "data": {
      "text/plain": "   size n  epsilon       cond(A)  iterations\n0       2     0.01  2.001000e+03           1\n1       3     0.01  1.523286e+04         163\n2       4     0.01  3.546846e+05       25260\n3       5     0.01  4.413617e+06       32241\n4       6     0.01  7.051241e+07      112255\n5       7     0.01  8.878063e+08      217189\n6       8     0.01  1.109414e+10      276248\n7       9     0.01  1.409757e+11      376620\n8      10     0.01  1.616522e+12      601036",
      "text/html": "<div>\n<style scoped>\n    .dataframe tbody tr th:only-of-type {\n        vertical-align: middle;\n    }\n\n    .dataframe tbody tr th {\n        vertical-align: top;\n    }\n\n    .dataframe thead th {\n        text-align: right;\n    }\n</style>\n<table border=\"1\" class=\"dataframe\">\n  <thead>\n    <tr style=\"text-align: right;\">\n      <th></th>\n      <th>size n</th>\n      <th>epsilon</th>\n      <th>cond(A)</th>\n      <th>iterations</th>\n    </tr>\n  </thead>\n  <tbody>\n    <tr>\n      <th>0</th>\n      <td>2</td>\n      <td>0.01</td>\n      <td>2.001000e+03</td>\n      <td>1</td>\n    </tr>\n    <tr>\n      <th>1</th>\n      <td>3</td>\n      <td>0.01</td>\n      <td>1.523286e+04</td>\n      <td>163</td>\n    </tr>\n    <tr>\n      <th>2</th>\n      <td>4</td>\n      <td>0.01</td>\n      <td>3.546846e+05</td>\n      <td>25260</td>\n    </tr>\n    <tr>\n      <th>3</th>\n      <td>5</td>\n      <td>0.01</td>\n      <td>4.413617e+06</td>\n      <td>32241</td>\n    </tr>\n    <tr>\n      <th>4</th>\n      <td>6</td>\n      <td>0.01</td>\n      <td>7.051241e+07</td>\n      <td>112255</td>\n    </tr>\n    <tr>\n      <th>5</th>\n      <td>7</td>\n      <td>0.01</td>\n      <td>8.878063e+08</td>\n      <td>217189</td>\n    </tr>\n    <tr>\n      <th>6</th>\n      <td>8</td>\n      <td>0.01</td>\n      <td>1.109414e+10</td>\n      <td>276248</td>\n    </tr>\n    <tr>\n      <th>7</th>\n      <td>9</td>\n      <td>0.01</td>\n      <td>1.409757e+11</td>\n      <td>376620</td>\n    </tr>\n    <tr>\n      <th>8</th>\n      <td>10</td>\n      <td>0.01</td>\n      <td>1.616522e+12</td>\n      <td>601036</td>\n    </tr>\n  </tbody>\n</table>\n</div>"
     },
     "execution_count": 35,
     "metadata": {},
     "output_type": "execute_result"
    }
   ],
   "source": [
    "build_table(matrix_generator.generate_diagonal_matrix, 0.01)"
   ],
   "metadata": {
    "collapsed": false,
    "pycharm": {
     "name": "#%%\n"
    }
   }
  },
  {
   "cell_type": "code",
   "execution_count": 38,
   "outputs": [
    {
     "data": {
      "text/plain": "   size n  epsilon       cond(A)  iterations\n0       2     0.01  1.933333e+01         160\n1       3     0.01  5.261588e+02        1295\n2       4     0.01  1.561379e+04         880\n3       5     0.01  4.808491e+05        3605\n4       6     0.01  1.511899e+07        2690\n5       7     0.01  4.817473e+08        4157\n6       8     0.01  1.549362e+10        2262\n7       9     0.01  5.017303e+11        5641\n8      10     0.01  1.633364e+13        5263",
      "text/html": "<div>\n<style scoped>\n    .dataframe tbody tr th:only-of-type {\n        vertical-align: middle;\n    }\n\n    .dataframe tbody tr th {\n        vertical-align: top;\n    }\n\n    .dataframe thead th {\n        text-align: right;\n    }\n</style>\n<table border=\"1\" class=\"dataframe\">\n  <thead>\n    <tr style=\"text-align: right;\">\n      <th></th>\n      <th>size n</th>\n      <th>epsilon</th>\n      <th>cond(A)</th>\n      <th>iterations</th>\n    </tr>\n  </thead>\n  <tbody>\n    <tr>\n      <th>0</th>\n      <td>2</td>\n      <td>0.01</td>\n      <td>1.933333e+01</td>\n      <td>160</td>\n    </tr>\n    <tr>\n      <th>1</th>\n      <td>3</td>\n      <td>0.01</td>\n      <td>5.261588e+02</td>\n      <td>1295</td>\n    </tr>\n    <tr>\n      <th>2</th>\n      <td>4</td>\n      <td>0.01</td>\n      <td>1.561379e+04</td>\n      <td>880</td>\n    </tr>\n    <tr>\n      <th>3</th>\n      <td>5</td>\n      <td>0.01</td>\n      <td>4.808491e+05</td>\n      <td>3605</td>\n    </tr>\n    <tr>\n      <th>4</th>\n      <td>6</td>\n      <td>0.01</td>\n      <td>1.511899e+07</td>\n      <td>2690</td>\n    </tr>\n    <tr>\n      <th>5</th>\n      <td>7</td>\n      <td>0.01</td>\n      <td>4.817473e+08</td>\n      <td>4157</td>\n    </tr>\n    <tr>\n      <th>6</th>\n      <td>8</td>\n      <td>0.01</td>\n      <td>1.549362e+10</td>\n      <td>2262</td>\n    </tr>\n    <tr>\n      <th>7</th>\n      <td>9</td>\n      <td>0.01</td>\n      <td>5.017303e+11</td>\n      <td>5641</td>\n    </tr>\n    <tr>\n      <th>8</th>\n      <td>10</td>\n      <td>0.01</td>\n      <td>1.633364e+13</td>\n      <td>5263</td>\n    </tr>\n  </tbody>\n</table>\n</div>"
     },
     "execution_count": 38,
     "metadata": {},
     "output_type": "execute_result"
    }
   ],
   "source": [
    "build_table(matrix_generator.generate_gilbert_matrix, 0.01)"
   ],
   "metadata": {
    "collapsed": false,
    "pycharm": {
     "name": "#%%\n"
    }
   }
  },
  {
   "cell_type": "code",
   "execution_count": 37,
   "outputs": [],
   "source": [
    "def build_table2(matrix, eps):\n",
    "\n",
    "    jacobi_res = []\n",
    "    obusl = []\n",
    "    sizes = [3, 5, 7, 9, 11, 13, 15]\n",
    "    precisions = [eps for i in sizes]\n",
    "\n",
    "    for n in sizes:\n",
    "        a = np.array(matrix(n))\n",
    "        obusl.append(condition_number.get_number(a))\n",
    "        ans, vec, iter = jacobi_method.jacobi_solve(a, eps);\n",
    "        jacobi_res.append(iter)\n",
    "\n",
    "    data = {\"size n\": sizes,\n",
    "            \"epsilon\": precisions,\n",
    "            \"cond(A)\": obusl,\n",
    "            \"iterations\": jacobi_res}\n",
    "\n",
    "    df = pd.DataFrame(data)\n",
    "\n",
    "    return df"
   ],
   "metadata": {
    "collapsed": false,
    "pycharm": {
     "name": "#%%\n"
    }
   }
  },
  {
   "cell_type": "code",
   "execution_count": 21,
   "outputs": [
    {
     "data": {
      "text/plain": "   size n  epsilon       cond(A)  iterations\n0       3      0.1  2.727768e+04         466\n1       5      0.1  4.259110e+06        3086\n2       7      0.1  9.813256e+08       10957\n3       9      0.1  1.316968e+11       68888\n4      11      0.1  1.936197e+13       95480\n5      13      0.1  2.910489e+15      197095\n6      15      0.1  1.478949e+17      220798",
      "text/html": "<div>\n<style scoped>\n    .dataframe tbody tr th:only-of-type {\n        vertical-align: middle;\n    }\n\n    .dataframe tbody tr th {\n        vertical-align: top;\n    }\n\n    .dataframe thead th {\n        text-align: right;\n    }\n</style>\n<table border=\"1\" class=\"dataframe\">\n  <thead>\n    <tr style=\"text-align: right;\">\n      <th></th>\n      <th>size n</th>\n      <th>epsilon</th>\n      <th>cond(A)</th>\n      <th>iterations</th>\n    </tr>\n  </thead>\n  <tbody>\n    <tr>\n      <th>0</th>\n      <td>3</td>\n      <td>0.1</td>\n      <td>2.727768e+04</td>\n      <td>466</td>\n    </tr>\n    <tr>\n      <th>1</th>\n      <td>5</td>\n      <td>0.1</td>\n      <td>4.259110e+06</td>\n      <td>3086</td>\n    </tr>\n    <tr>\n      <th>2</th>\n      <td>7</td>\n      <td>0.1</td>\n      <td>9.813256e+08</td>\n      <td>10957</td>\n    </tr>\n    <tr>\n      <th>3</th>\n      <td>9</td>\n      <td>0.1</td>\n      <td>1.316968e+11</td>\n      <td>68888</td>\n    </tr>\n    <tr>\n      <th>4</th>\n      <td>11</td>\n      <td>0.1</td>\n      <td>1.936197e+13</td>\n      <td>95480</td>\n    </tr>\n    <tr>\n      <th>5</th>\n      <td>13</td>\n      <td>0.1</td>\n      <td>2.910489e+15</td>\n      <td>197095</td>\n    </tr>\n    <tr>\n      <th>6</th>\n      <td>15</td>\n      <td>0.1</td>\n      <td>1.478949e+17</td>\n      <td>220798</td>\n    </tr>\n  </tbody>\n</table>\n</div>"
     },
     "execution_count": 21,
     "metadata": {},
     "output_type": "execute_result"
    }
   ],
   "source": [
    "build_table2(matrix_generator.generate_diagonal_matrix, 0.1)"
   ],
   "metadata": {
    "collapsed": false,
    "pycharm": {
     "name": "#%%\n"
    }
   }
  },
  {
   "cell_type": "code",
   "execution_count": 22,
   "outputs": [
    {
     "data": {
      "text/plain": "   size n  epsilon       cond(A)  iterations\n0       3      0.1  5.261588e+02          13\n1       5      0.1  4.808491e+05         316\n2       7      0.1  4.817473e+08         211\n3       9      0.1  5.017303e+11         535\n4      11      0.1  5.343571e+14         512\n5      13      0.1  3.382229e+17         562\n6      15      0.1  4.684591e+17        1166",
      "text/html": "<div>\n<style scoped>\n    .dataframe tbody tr th:only-of-type {\n        vertical-align: middle;\n    }\n\n    .dataframe tbody tr th {\n        vertical-align: top;\n    }\n\n    .dataframe thead th {\n        text-align: right;\n    }\n</style>\n<table border=\"1\" class=\"dataframe\">\n  <thead>\n    <tr style=\"text-align: right;\">\n      <th></th>\n      <th>size n</th>\n      <th>epsilon</th>\n      <th>cond(A)</th>\n      <th>iterations</th>\n    </tr>\n  </thead>\n  <tbody>\n    <tr>\n      <th>0</th>\n      <td>3</td>\n      <td>0.1</td>\n      <td>5.261588e+02</td>\n      <td>13</td>\n    </tr>\n    <tr>\n      <th>1</th>\n      <td>5</td>\n      <td>0.1</td>\n      <td>4.808491e+05</td>\n      <td>316</td>\n    </tr>\n    <tr>\n      <th>2</th>\n      <td>7</td>\n      <td>0.1</td>\n      <td>4.817473e+08</td>\n      <td>211</td>\n    </tr>\n    <tr>\n      <th>3</th>\n      <td>9</td>\n      <td>0.1</td>\n      <td>5.017303e+11</td>\n      <td>535</td>\n    </tr>\n    <tr>\n      <th>4</th>\n      <td>11</td>\n      <td>0.1</td>\n      <td>5.343571e+14</td>\n      <td>512</td>\n    </tr>\n    <tr>\n      <th>5</th>\n      <td>13</td>\n      <td>0.1</td>\n      <td>3.382229e+17</td>\n      <td>562</td>\n    </tr>\n    <tr>\n      <th>6</th>\n      <td>15</td>\n      <td>0.1</td>\n      <td>4.684591e+17</td>\n      <td>1166</td>\n    </tr>\n  </tbody>\n</table>\n</div>"
     },
     "execution_count": 22,
     "metadata": {},
     "output_type": "execute_result"
    }
   ],
   "source": [
    "build_table2(matrix_generator.generate_gilbert_matrix, 0.1)"
   ],
   "metadata": {
    "collapsed": false,
    "pycharm": {
     "name": "#%%\n"
    }
   }
  }
 ],
 "metadata": {
  "kernelspec": {
   "display_name": "Python 3",
   "language": "python",
   "name": "python3"
  },
  "language_info": {
   "codemirror_mode": {
    "name": "ipython",
    "version": 2
   },
   "file_extension": ".py",
   "mimetype": "text/x-python",
   "name": "python",
   "nbconvert_exporter": "python",
   "pygments_lexer": "ipython2",
   "version": "2.7.6"
  }
 },
 "nbformat": 4,
 "nbformat_minor": 0
}